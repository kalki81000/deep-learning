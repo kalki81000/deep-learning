{
  "nbformat": 4,
  "nbformat_minor": 0,
  "metadata": {
    "colab": {
      "provenance": [],
      "authorship_tag": "ABX9TyOeQe4GdgnRngiUIxdGNETZ",
      "include_colab_link": true
    },
    "kernelspec": {
      "name": "python3",
      "display_name": "Python 3"
    },
    "language_info": {
      "name": "python"
    }
  },
  "cells": [
    {
      "cell_type": "markdown",
      "metadata": {
        "id": "view-in-github",
        "colab_type": "text"
      },
      "source": [
        "<a href=\"https://colab.research.google.com/github/kalki81000/deep-learning/blob/main/Untitled91.ipynb\" target=\"_parent\"><img src=\"https://colab.research.google.com/assets/colab-badge.svg\" alt=\"Open In Colab\"/></a>"
      ]
    },
    {
      "cell_type": "code",
      "execution_count": 1,
      "metadata": {
        "id": "elacePeMZ8es"
      },
      "outputs": [],
      "source": [
        "import tensorflow as tf\n",
        "from tensorflow.keras.layers import Dense\n",
        "from tensorflow.keras.models import Sequential\n"
      ]
    },
    {
      "cell_type": "code",
      "source": [
        "model = Sequential([\n",
        "    Dense(units = 4 , activation='relu' , input_shape = (10, )),\n",
        "    Dense(units = 3 , activation='relu'),\n",
        "    Dense(units = 2 , activation='relu')\n",
        "])"
      ],
      "metadata": {
        "colab": {
          "base_uri": "https://localhost:8080/"
        },
        "id": "iMzBJfQVbEOy",
        "outputId": "833718b7-0cac-48fd-aae9-9737981900bd"
      },
      "execution_count": 2,
      "outputs": [
        {
          "output_type": "stream",
          "name": "stderr",
          "text": [
            "/usr/local/lib/python3.10/dist-packages/keras/src/layers/core/dense.py:87: UserWarning: Do not pass an `input_shape`/`input_dim` argument to a layer. When using Sequential models, prefer using an `Input(shape)` object as the first layer in the model instead.\n",
            "  super().__init__(activity_regularizer=activity_regularizer, **kwargs)\n"
          ]
        }
      ]
    },
    {
      "cell_type": "code",
      "source": [
        "from types import MethodWrapperType\n",
        "model.compile(optimizer='adam' , loss='sparse_categorical_crossentropy' , metrics=['accuracy'])"
      ],
      "metadata": {
        "id": "HbBW50RYb1xP"
      },
      "execution_count": 3,
      "outputs": []
    },
    {
      "cell_type": "code",
      "source": [
        "model.summary()"
      ],
      "metadata": {
        "colab": {
          "base_uri": "https://localhost:8080/",
          "height": 238
        },
        "id": "PlxrCe3AcLeR",
        "outputId": "c21b041f-b64f-45b6-df64-9a3db914ae25"
      },
      "execution_count": 4,
      "outputs": [
        {
          "output_type": "display_data",
          "data": {
            "text/plain": [
              "\u001b[1mModel: \"sequential\"\u001b[0m\n"
            ],
            "text/html": [
              "<pre style=\"white-space:pre;overflow-x:auto;line-height:normal;font-family:Menlo,'DejaVu Sans Mono',consolas,'Courier New',monospace\"><span style=\"font-weight: bold\">Model: \"sequential\"</span>\n",
              "</pre>\n"
            ]
          },
          "metadata": {}
        },
        {
          "output_type": "display_data",
          "data": {
            "text/plain": [
              "┏━━━━━━━━━━━━━━━━━━━━━━━━━━━━━━━━━━━━━━┳━━━━━━━━━━━━━━━━━━━━━━━━━━━━━┳━━━━━━━━━━━━━━━━━┓\n",
              "┃\u001b[1m \u001b[0m\u001b[1mLayer (type)                        \u001b[0m\u001b[1m \u001b[0m┃\u001b[1m \u001b[0m\u001b[1mOutput Shape               \u001b[0m\u001b[1m \u001b[0m┃\u001b[1m \u001b[0m\u001b[1m        Param #\u001b[0m\u001b[1m \u001b[0m┃\n",
              "┡━━━━━━━━━━━━━━━━━━━━━━━━━━━━━━━━━━━━━━╇━━━━━━━━━━━━━━━━━━━━━━━━━━━━━╇━━━━━━━━━━━━━━━━━┩\n",
              "│ dense (\u001b[38;5;33mDense\u001b[0m)                        │ (\u001b[38;5;45mNone\u001b[0m, \u001b[38;5;34m4\u001b[0m)                   │              \u001b[38;5;34m44\u001b[0m │\n",
              "├──────────────────────────────────────┼─────────────────────────────┼─────────────────┤\n",
              "│ dense_1 (\u001b[38;5;33mDense\u001b[0m)                      │ (\u001b[38;5;45mNone\u001b[0m, \u001b[38;5;34m3\u001b[0m)                   │              \u001b[38;5;34m15\u001b[0m │\n",
              "├──────────────────────────────────────┼─────────────────────────────┼─────────────────┤\n",
              "│ dense_2 (\u001b[38;5;33mDense\u001b[0m)                      │ (\u001b[38;5;45mNone\u001b[0m, \u001b[38;5;34m2\u001b[0m)                   │               \u001b[38;5;34m8\u001b[0m │\n",
              "└──────────────────────────────────────┴─────────────────────────────┴─────────────────┘\n"
            ],
            "text/html": [
              "<pre style=\"white-space:pre;overflow-x:auto;line-height:normal;font-family:Menlo,'DejaVu Sans Mono',consolas,'Courier New',monospace\">┏━━━━━━━━━━━━━━━━━━━━━━━━━━━━━━━━━━━━━━┳━━━━━━━━━━━━━━━━━━━━━━━━━━━━━┳━━━━━━━━━━━━━━━━━┓\n",
              "┃<span style=\"font-weight: bold\"> Layer (type)                         </span>┃<span style=\"font-weight: bold\"> Output Shape                </span>┃<span style=\"font-weight: bold\">         Param # </span>┃\n",
              "┡━━━━━━━━━━━━━━━━━━━━━━━━━━━━━━━━━━━━━━╇━━━━━━━━━━━━━━━━━━━━━━━━━━━━━╇━━━━━━━━━━━━━━━━━┩\n",
              "│ dense (<span style=\"color: #0087ff; text-decoration-color: #0087ff\">Dense</span>)                        │ (<span style=\"color: #00d7ff; text-decoration-color: #00d7ff\">None</span>, <span style=\"color: #00af00; text-decoration-color: #00af00\">4</span>)                   │              <span style=\"color: #00af00; text-decoration-color: #00af00\">44</span> │\n",
              "├──────────────────────────────────────┼─────────────────────────────┼─────────────────┤\n",
              "│ dense_1 (<span style=\"color: #0087ff; text-decoration-color: #0087ff\">Dense</span>)                      │ (<span style=\"color: #00d7ff; text-decoration-color: #00d7ff\">None</span>, <span style=\"color: #00af00; text-decoration-color: #00af00\">3</span>)                   │              <span style=\"color: #00af00; text-decoration-color: #00af00\">15</span> │\n",
              "├──────────────────────────────────────┼─────────────────────────────┼─────────────────┤\n",
              "│ dense_2 (<span style=\"color: #0087ff; text-decoration-color: #0087ff\">Dense</span>)                      │ (<span style=\"color: #00d7ff; text-decoration-color: #00d7ff\">None</span>, <span style=\"color: #00af00; text-decoration-color: #00af00\">2</span>)                   │               <span style=\"color: #00af00; text-decoration-color: #00af00\">8</span> │\n",
              "└──────────────────────────────────────┴─────────────────────────────┴─────────────────┘\n",
              "</pre>\n"
            ]
          },
          "metadata": {}
        },
        {
          "output_type": "display_data",
          "data": {
            "text/plain": [
              "\u001b[1m Total params: \u001b[0m\u001b[38;5;34m67\u001b[0m (268.00 B)\n"
            ],
            "text/html": [
              "<pre style=\"white-space:pre;overflow-x:auto;line-height:normal;font-family:Menlo,'DejaVu Sans Mono',consolas,'Courier New',monospace\"><span style=\"font-weight: bold\"> Total params: </span><span style=\"color: #00af00; text-decoration-color: #00af00\">67</span> (268.00 B)\n",
              "</pre>\n"
            ]
          },
          "metadata": {}
        },
        {
          "output_type": "display_data",
          "data": {
            "text/plain": [
              "\u001b[1m Trainable params: \u001b[0m\u001b[38;5;34m67\u001b[0m (268.00 B)\n"
            ],
            "text/html": [
              "<pre style=\"white-space:pre;overflow-x:auto;line-height:normal;font-family:Menlo,'DejaVu Sans Mono',consolas,'Courier New',monospace\"><span style=\"font-weight: bold\"> Trainable params: </span><span style=\"color: #00af00; text-decoration-color: #00af00\">67</span> (268.00 B)\n",
              "</pre>\n"
            ]
          },
          "metadata": {}
        },
        {
          "output_type": "display_data",
          "data": {
            "text/plain": [
              "\u001b[1m Non-trainable params: \u001b[0m\u001b[38;5;34m0\u001b[0m (0.00 B)\n"
            ],
            "text/html": [
              "<pre style=\"white-space:pre;overflow-x:auto;line-height:normal;font-family:Menlo,'DejaVu Sans Mono',consolas,'Courier New',monospace\"><span style=\"font-weight: bold\"> Non-trainable params: </span><span style=\"color: #00af00; text-decoration-color: #00af00\">0</span> (0.00 B)\n",
              "</pre>\n"
            ]
          },
          "metadata": {}
        }
      ]
    },
    {
      "cell_type": "code",
      "source": [],
      "metadata": {
        "id": "B9njH5O2cPJv"
      },
      "execution_count": null,
      "outputs": []
    },
    {
      "cell_type": "code",
      "source": [],
      "metadata": {
        "id": "NIsoscXrc5fg"
      },
      "execution_count": null,
      "outputs": []
    },
    {
      "cell_type": "code",
      "source": [],
      "metadata": {
        "id": "vEDD4tHmc5cT"
      },
      "execution_count": null,
      "outputs": []
    },
    {
      "cell_type": "code",
      "source": [
        "from sklearn.datasets import load_iris\n",
        "data = load_iris()\n",
        "\n",
        "x = data.data\n",
        "y = data.target"
      ],
      "metadata": {
        "id": "vrWAvzFLc5Zl"
      },
      "execution_count": 5,
      "outputs": []
    },
    {
      "cell_type": "code",
      "source": [
        "x"
      ],
      "metadata": {
        "colab": {
          "base_uri": "https://localhost:8080/"
        },
        "id": "l7pKckfBdDnt",
        "outputId": "40d23a47-05fc-483b-d598-ec150b58eac5"
      },
      "execution_count": 6,
      "outputs": [
        {
          "output_type": "execute_result",
          "data": {
            "text/plain": [
              "array([[5.1, 3.5, 1.4, 0.2],\n",
              "       [4.9, 3. , 1.4, 0.2],\n",
              "       [4.7, 3.2, 1.3, 0.2],\n",
              "       [4.6, 3.1, 1.5, 0.2],\n",
              "       [5. , 3.6, 1.4, 0.2],\n",
              "       [5.4, 3.9, 1.7, 0.4],\n",
              "       [4.6, 3.4, 1.4, 0.3],\n",
              "       [5. , 3.4, 1.5, 0.2],\n",
              "       [4.4, 2.9, 1.4, 0.2],\n",
              "       [4.9, 3.1, 1.5, 0.1],\n",
              "       [5.4, 3.7, 1.5, 0.2],\n",
              "       [4.8, 3.4, 1.6, 0.2],\n",
              "       [4.8, 3. , 1.4, 0.1],\n",
              "       [4.3, 3. , 1.1, 0.1],\n",
              "       [5.8, 4. , 1.2, 0.2],\n",
              "       [5.7, 4.4, 1.5, 0.4],\n",
              "       [5.4, 3.9, 1.3, 0.4],\n",
              "       [5.1, 3.5, 1.4, 0.3],\n",
              "       [5.7, 3.8, 1.7, 0.3],\n",
              "       [5.1, 3.8, 1.5, 0.3],\n",
              "       [5.4, 3.4, 1.7, 0.2],\n",
              "       [5.1, 3.7, 1.5, 0.4],\n",
              "       [4.6, 3.6, 1. , 0.2],\n",
              "       [5.1, 3.3, 1.7, 0.5],\n",
              "       [4.8, 3.4, 1.9, 0.2],\n",
              "       [5. , 3. , 1.6, 0.2],\n",
              "       [5. , 3.4, 1.6, 0.4],\n",
              "       [5.2, 3.5, 1.5, 0.2],\n",
              "       [5.2, 3.4, 1.4, 0.2],\n",
              "       [4.7, 3.2, 1.6, 0.2],\n",
              "       [4.8, 3.1, 1.6, 0.2],\n",
              "       [5.4, 3.4, 1.5, 0.4],\n",
              "       [5.2, 4.1, 1.5, 0.1],\n",
              "       [5.5, 4.2, 1.4, 0.2],\n",
              "       [4.9, 3.1, 1.5, 0.2],\n",
              "       [5. , 3.2, 1.2, 0.2],\n",
              "       [5.5, 3.5, 1.3, 0.2],\n",
              "       [4.9, 3.6, 1.4, 0.1],\n",
              "       [4.4, 3. , 1.3, 0.2],\n",
              "       [5.1, 3.4, 1.5, 0.2],\n",
              "       [5. , 3.5, 1.3, 0.3],\n",
              "       [4.5, 2.3, 1.3, 0.3],\n",
              "       [4.4, 3.2, 1.3, 0.2],\n",
              "       [5. , 3.5, 1.6, 0.6],\n",
              "       [5.1, 3.8, 1.9, 0.4],\n",
              "       [4.8, 3. , 1.4, 0.3],\n",
              "       [5.1, 3.8, 1.6, 0.2],\n",
              "       [4.6, 3.2, 1.4, 0.2],\n",
              "       [5.3, 3.7, 1.5, 0.2],\n",
              "       [5. , 3.3, 1.4, 0.2],\n",
              "       [7. , 3.2, 4.7, 1.4],\n",
              "       [6.4, 3.2, 4.5, 1.5],\n",
              "       [6.9, 3.1, 4.9, 1.5],\n",
              "       [5.5, 2.3, 4. , 1.3],\n",
              "       [6.5, 2.8, 4.6, 1.5],\n",
              "       [5.7, 2.8, 4.5, 1.3],\n",
              "       [6.3, 3.3, 4.7, 1.6],\n",
              "       [4.9, 2.4, 3.3, 1. ],\n",
              "       [6.6, 2.9, 4.6, 1.3],\n",
              "       [5.2, 2.7, 3.9, 1.4],\n",
              "       [5. , 2. , 3.5, 1. ],\n",
              "       [5.9, 3. , 4.2, 1.5],\n",
              "       [6. , 2.2, 4. , 1. ],\n",
              "       [6.1, 2.9, 4.7, 1.4],\n",
              "       [5.6, 2.9, 3.6, 1.3],\n",
              "       [6.7, 3.1, 4.4, 1.4],\n",
              "       [5.6, 3. , 4.5, 1.5],\n",
              "       [5.8, 2.7, 4.1, 1. ],\n",
              "       [6.2, 2.2, 4.5, 1.5],\n",
              "       [5.6, 2.5, 3.9, 1.1],\n",
              "       [5.9, 3.2, 4.8, 1.8],\n",
              "       [6.1, 2.8, 4. , 1.3],\n",
              "       [6.3, 2.5, 4.9, 1.5],\n",
              "       [6.1, 2.8, 4.7, 1.2],\n",
              "       [6.4, 2.9, 4.3, 1.3],\n",
              "       [6.6, 3. , 4.4, 1.4],\n",
              "       [6.8, 2.8, 4.8, 1.4],\n",
              "       [6.7, 3. , 5. , 1.7],\n",
              "       [6. , 2.9, 4.5, 1.5],\n",
              "       [5.7, 2.6, 3.5, 1. ],\n",
              "       [5.5, 2.4, 3.8, 1.1],\n",
              "       [5.5, 2.4, 3.7, 1. ],\n",
              "       [5.8, 2.7, 3.9, 1.2],\n",
              "       [6. , 2.7, 5.1, 1.6],\n",
              "       [5.4, 3. , 4.5, 1.5],\n",
              "       [6. , 3.4, 4.5, 1.6],\n",
              "       [6.7, 3.1, 4.7, 1.5],\n",
              "       [6.3, 2.3, 4.4, 1.3],\n",
              "       [5.6, 3. , 4.1, 1.3],\n",
              "       [5.5, 2.5, 4. , 1.3],\n",
              "       [5.5, 2.6, 4.4, 1.2],\n",
              "       [6.1, 3. , 4.6, 1.4],\n",
              "       [5.8, 2.6, 4. , 1.2],\n",
              "       [5. , 2.3, 3.3, 1. ],\n",
              "       [5.6, 2.7, 4.2, 1.3],\n",
              "       [5.7, 3. , 4.2, 1.2],\n",
              "       [5.7, 2.9, 4.2, 1.3],\n",
              "       [6.2, 2.9, 4.3, 1.3],\n",
              "       [5.1, 2.5, 3. , 1.1],\n",
              "       [5.7, 2.8, 4.1, 1.3],\n",
              "       [6.3, 3.3, 6. , 2.5],\n",
              "       [5.8, 2.7, 5.1, 1.9],\n",
              "       [7.1, 3. , 5.9, 2.1],\n",
              "       [6.3, 2.9, 5.6, 1.8],\n",
              "       [6.5, 3. , 5.8, 2.2],\n",
              "       [7.6, 3. , 6.6, 2.1],\n",
              "       [4.9, 2.5, 4.5, 1.7],\n",
              "       [7.3, 2.9, 6.3, 1.8],\n",
              "       [6.7, 2.5, 5.8, 1.8],\n",
              "       [7.2, 3.6, 6.1, 2.5],\n",
              "       [6.5, 3.2, 5.1, 2. ],\n",
              "       [6.4, 2.7, 5.3, 1.9],\n",
              "       [6.8, 3. , 5.5, 2.1],\n",
              "       [5.7, 2.5, 5. , 2. ],\n",
              "       [5.8, 2.8, 5.1, 2.4],\n",
              "       [6.4, 3.2, 5.3, 2.3],\n",
              "       [6.5, 3. , 5.5, 1.8],\n",
              "       [7.7, 3.8, 6.7, 2.2],\n",
              "       [7.7, 2.6, 6.9, 2.3],\n",
              "       [6. , 2.2, 5. , 1.5],\n",
              "       [6.9, 3.2, 5.7, 2.3],\n",
              "       [5.6, 2.8, 4.9, 2. ],\n",
              "       [7.7, 2.8, 6.7, 2. ],\n",
              "       [6.3, 2.7, 4.9, 1.8],\n",
              "       [6.7, 3.3, 5.7, 2.1],\n",
              "       [7.2, 3.2, 6. , 1.8],\n",
              "       [6.2, 2.8, 4.8, 1.8],\n",
              "       [6.1, 3. , 4.9, 1.8],\n",
              "       [6.4, 2.8, 5.6, 2.1],\n",
              "       [7.2, 3. , 5.8, 1.6],\n",
              "       [7.4, 2.8, 6.1, 1.9],\n",
              "       [7.9, 3.8, 6.4, 2. ],\n",
              "       [6.4, 2.8, 5.6, 2.2],\n",
              "       [6.3, 2.8, 5.1, 1.5],\n",
              "       [6.1, 2.6, 5.6, 1.4],\n",
              "       [7.7, 3. , 6.1, 2.3],\n",
              "       [6.3, 3.4, 5.6, 2.4],\n",
              "       [6.4, 3.1, 5.5, 1.8],\n",
              "       [6. , 3. , 4.8, 1.8],\n",
              "       [6.9, 3.1, 5.4, 2.1],\n",
              "       [6.7, 3.1, 5.6, 2.4],\n",
              "       [6.9, 3.1, 5.1, 2.3],\n",
              "       [5.8, 2.7, 5.1, 1.9],\n",
              "       [6.8, 3.2, 5.9, 2.3],\n",
              "       [6.7, 3.3, 5.7, 2.5],\n",
              "       [6.7, 3. , 5.2, 2.3],\n",
              "       [6.3, 2.5, 5. , 1.9],\n",
              "       [6.5, 3. , 5.2, 2. ],\n",
              "       [6.2, 3.4, 5.4, 2.3],\n",
              "       [5.9, 3. , 5.1, 1.8]])"
            ]
          },
          "metadata": {},
          "execution_count": 6
        }
      ]
    },
    {
      "cell_type": "code",
      "source": [
        "y"
      ],
      "metadata": {
        "colab": {
          "base_uri": "https://localhost:8080/"
        },
        "id": "4pi58JbndE-b",
        "outputId": "7b3da393-74fb-44d8-80ad-0ef4b3bf7a46"
      },
      "execution_count": 7,
      "outputs": [
        {
          "output_type": "execute_result",
          "data": {
            "text/plain": [
              "array([0, 0, 0, 0, 0, 0, 0, 0, 0, 0, 0, 0, 0, 0, 0, 0, 0, 0, 0, 0, 0, 0,\n",
              "       0, 0, 0, 0, 0, 0, 0, 0, 0, 0, 0, 0, 0, 0, 0, 0, 0, 0, 0, 0, 0, 0,\n",
              "       0, 0, 0, 0, 0, 0, 1, 1, 1, 1, 1, 1, 1, 1, 1, 1, 1, 1, 1, 1, 1, 1,\n",
              "       1, 1, 1, 1, 1, 1, 1, 1, 1, 1, 1, 1, 1, 1, 1, 1, 1, 1, 1, 1, 1, 1,\n",
              "       1, 1, 1, 1, 1, 1, 1, 1, 1, 1, 1, 1, 2, 2, 2, 2, 2, 2, 2, 2, 2, 2,\n",
              "       2, 2, 2, 2, 2, 2, 2, 2, 2, 2, 2, 2, 2, 2, 2, 2, 2, 2, 2, 2, 2, 2,\n",
              "       2, 2, 2, 2, 2, 2, 2, 2, 2, 2, 2, 2, 2, 2, 2, 2, 2, 2])"
            ]
          },
          "metadata": {},
          "execution_count": 7
        }
      ]
    },
    {
      "cell_type": "code",
      "source": [
        "model = Sequential([\n",
        "    Dense(units = 6 , activation='relu' , input_shape = (4, )),\n",
        "    Dense(units = 3 , activation='softmax')\n",
        "])"
      ],
      "metadata": {
        "colab": {
          "base_uri": "https://localhost:8080/"
        },
        "id": "nIIKyFPydF3i",
        "outputId": "fbcc3b28-eeac-4741-ca25-bdb18719b2bc"
      },
      "execution_count": 8,
      "outputs": [
        {
          "output_type": "stream",
          "name": "stderr",
          "text": [
            "/usr/local/lib/python3.10/dist-packages/keras/src/layers/core/dense.py:87: UserWarning: Do not pass an `input_shape`/`input_dim` argument to a layer. When using Sequential models, prefer using an `Input(shape)` object as the first layer in the model instead.\n",
            "  super().__init__(activity_regularizer=activity_regularizer, **kwargs)\n"
          ]
        }
      ]
    },
    {
      "cell_type": "code",
      "source": [
        "model.summary()"
      ],
      "metadata": {
        "colab": {
          "base_uri": "https://localhost:8080/",
          "height": 204
        },
        "id": "XTPNEFrAdbUx",
        "outputId": "223ace25-4c81-4e6f-81b1-55ed88ab0e7b"
      },
      "execution_count": 9,
      "outputs": [
        {
          "output_type": "display_data",
          "data": {
            "text/plain": [
              "\u001b[1mModel: \"sequential_1\"\u001b[0m\n"
            ],
            "text/html": [
              "<pre style=\"white-space:pre;overflow-x:auto;line-height:normal;font-family:Menlo,'DejaVu Sans Mono',consolas,'Courier New',monospace\"><span style=\"font-weight: bold\">Model: \"sequential_1\"</span>\n",
              "</pre>\n"
            ]
          },
          "metadata": {}
        },
        {
          "output_type": "display_data",
          "data": {
            "text/plain": [
              "┏━━━━━━━━━━━━━━━━━━━━━━━━━━━━━━━━━━━━━━┳━━━━━━━━━━━━━━━━━━━━━━━━━━━━━┳━━━━━━━━━━━━━━━━━┓\n",
              "┃\u001b[1m \u001b[0m\u001b[1mLayer (type)                        \u001b[0m\u001b[1m \u001b[0m┃\u001b[1m \u001b[0m\u001b[1mOutput Shape               \u001b[0m\u001b[1m \u001b[0m┃\u001b[1m \u001b[0m\u001b[1m        Param #\u001b[0m\u001b[1m \u001b[0m┃\n",
              "┡━━━━━━━━━━━━━━━━━━━━━━━━━━━━━━━━━━━━━━╇━━━━━━━━━━━━━━━━━━━━━━━━━━━━━╇━━━━━━━━━━━━━━━━━┩\n",
              "│ dense_3 (\u001b[38;5;33mDense\u001b[0m)                      │ (\u001b[38;5;45mNone\u001b[0m, \u001b[38;5;34m6\u001b[0m)                   │              \u001b[38;5;34m30\u001b[0m │\n",
              "├──────────────────────────────────────┼─────────────────────────────┼─────────────────┤\n",
              "│ dense_4 (\u001b[38;5;33mDense\u001b[0m)                      │ (\u001b[38;5;45mNone\u001b[0m, \u001b[38;5;34m3\u001b[0m)                   │              \u001b[38;5;34m21\u001b[0m │\n",
              "└──────────────────────────────────────┴─────────────────────────────┴─────────────────┘\n"
            ],
            "text/html": [
              "<pre style=\"white-space:pre;overflow-x:auto;line-height:normal;font-family:Menlo,'DejaVu Sans Mono',consolas,'Courier New',monospace\">┏━━━━━━━━━━━━━━━━━━━━━━━━━━━━━━━━━━━━━━┳━━━━━━━━━━━━━━━━━━━━━━━━━━━━━┳━━━━━━━━━━━━━━━━━┓\n",
              "┃<span style=\"font-weight: bold\"> Layer (type)                         </span>┃<span style=\"font-weight: bold\"> Output Shape                </span>┃<span style=\"font-weight: bold\">         Param # </span>┃\n",
              "┡━━━━━━━━━━━━━━━━━━━━━━━━━━━━━━━━━━━━━━╇━━━━━━━━━━━━━━━━━━━━━━━━━━━━━╇━━━━━━━━━━━━━━━━━┩\n",
              "│ dense_3 (<span style=\"color: #0087ff; text-decoration-color: #0087ff\">Dense</span>)                      │ (<span style=\"color: #00d7ff; text-decoration-color: #00d7ff\">None</span>, <span style=\"color: #00af00; text-decoration-color: #00af00\">6</span>)                   │              <span style=\"color: #00af00; text-decoration-color: #00af00\">30</span> │\n",
              "├──────────────────────────────────────┼─────────────────────────────┼─────────────────┤\n",
              "│ dense_4 (<span style=\"color: #0087ff; text-decoration-color: #0087ff\">Dense</span>)                      │ (<span style=\"color: #00d7ff; text-decoration-color: #00d7ff\">None</span>, <span style=\"color: #00af00; text-decoration-color: #00af00\">3</span>)                   │              <span style=\"color: #00af00; text-decoration-color: #00af00\">21</span> │\n",
              "└──────────────────────────────────────┴─────────────────────────────┴─────────────────┘\n",
              "</pre>\n"
            ]
          },
          "metadata": {}
        },
        {
          "output_type": "display_data",
          "data": {
            "text/plain": [
              "\u001b[1m Total params: \u001b[0m\u001b[38;5;34m51\u001b[0m (204.00 B)\n"
            ],
            "text/html": [
              "<pre style=\"white-space:pre;overflow-x:auto;line-height:normal;font-family:Menlo,'DejaVu Sans Mono',consolas,'Courier New',monospace\"><span style=\"font-weight: bold\"> Total params: </span><span style=\"color: #00af00; text-decoration-color: #00af00\">51</span> (204.00 B)\n",
              "</pre>\n"
            ]
          },
          "metadata": {}
        },
        {
          "output_type": "display_data",
          "data": {
            "text/plain": [
              "\u001b[1m Trainable params: \u001b[0m\u001b[38;5;34m51\u001b[0m (204.00 B)\n"
            ],
            "text/html": [
              "<pre style=\"white-space:pre;overflow-x:auto;line-height:normal;font-family:Menlo,'DejaVu Sans Mono',consolas,'Courier New',monospace\"><span style=\"font-weight: bold\"> Trainable params: </span><span style=\"color: #00af00; text-decoration-color: #00af00\">51</span> (204.00 B)\n",
              "</pre>\n"
            ]
          },
          "metadata": {}
        },
        {
          "output_type": "display_data",
          "data": {
            "text/plain": [
              "\u001b[1m Non-trainable params: \u001b[0m\u001b[38;5;34m0\u001b[0m (0.00 B)\n"
            ],
            "text/html": [
              "<pre style=\"white-space:pre;overflow-x:auto;line-height:normal;font-family:Menlo,'DejaVu Sans Mono',consolas,'Courier New',monospace\"><span style=\"font-weight: bold\"> Non-trainable params: </span><span style=\"color: #00af00; text-decoration-color: #00af00\">0</span> (0.00 B)\n",
              "</pre>\n"
            ]
          },
          "metadata": {}
        }
      ]
    },
    {
      "cell_type": "code",
      "source": [
        "model.compile(optimizer = \"adam\" , loss = \"sparse_categorical_crossentropy\" , metrics = [\"accuracy\"])"
      ],
      "metadata": {
        "id": "FESH9v_8dexP"
      },
      "execution_count": 10,
      "outputs": []
    },
    {
      "cell_type": "code",
      "source": [
        "model.fit(x , y , epochs = 100 , batch_size = 30 , verbose = 2)"
      ],
      "metadata": {
        "colab": {
          "base_uri": "https://localhost:8080/"
        },
        "id": "wjnlvCN5eAhd",
        "outputId": "a295d3f6-36d0-42c1-9784-e752f76267e4"
      },
      "execution_count": 13,
      "outputs": [
        {
          "output_type": "stream",
          "name": "stdout",
          "text": [
            "Epoch 1/100\n",
            "5/5 - 0s - 7ms/step - accuracy: 0.8867 - loss: 0.4465\n",
            "Epoch 2/100\n",
            "5/5 - 0s - 7ms/step - accuracy: 0.9000 - loss: 0.4455\n",
            "Epoch 3/100\n",
            "5/5 - 0s - 7ms/step - accuracy: 0.8867 - loss: 0.4446\n",
            "Epoch 4/100\n",
            "5/5 - 0s - 11ms/step - accuracy: 0.8867 - loss: 0.4418\n",
            "Epoch 5/100\n",
            "5/5 - 0s - 11ms/step - accuracy: 0.8867 - loss: 0.4400\n",
            "Epoch 6/100\n",
            "5/5 - 0s - 12ms/step - accuracy: 0.9000 - loss: 0.4385\n",
            "Epoch 7/100\n",
            "5/5 - 0s - 7ms/step - accuracy: 0.9200 - loss: 0.4372\n",
            "Epoch 8/100\n",
            "5/5 - 0s - 11ms/step - accuracy: 0.9333 - loss: 0.4354\n",
            "Epoch 9/100\n",
            "5/5 - 0s - 12ms/step - accuracy: 0.9267 - loss: 0.4339\n",
            "Epoch 10/100\n",
            "5/5 - 0s - 12ms/step - accuracy: 0.9200 - loss: 0.4324\n",
            "Epoch 11/100\n",
            "5/5 - 0s - 11ms/step - accuracy: 0.9200 - loss: 0.4309\n",
            "Epoch 12/100\n",
            "5/5 - 0s - 7ms/step - accuracy: 0.9133 - loss: 0.4293\n",
            "Epoch 13/100\n",
            "5/5 - 0s - 6ms/step - accuracy: 0.9200 - loss: 0.4284\n",
            "Epoch 14/100\n",
            "5/5 - 0s - 11ms/step - accuracy: 0.9267 - loss: 0.4264\n",
            "Epoch 15/100\n",
            "5/5 - 0s - 12ms/step - accuracy: 0.9133 - loss: 0.4248\n",
            "Epoch 16/100\n",
            "5/5 - 0s - 11ms/step - accuracy: 0.9200 - loss: 0.4237\n",
            "Epoch 17/100\n",
            "5/5 - 0s - 8ms/step - accuracy: 0.9333 - loss: 0.4219\n",
            "Epoch 18/100\n",
            "5/5 - 0s - 7ms/step - accuracy: 0.9400 - loss: 0.4207\n",
            "Epoch 19/100\n",
            "5/5 - 0s - 11ms/step - accuracy: 0.9333 - loss: 0.4191\n",
            "Epoch 20/100\n",
            "5/5 - 0s - 12ms/step - accuracy: 0.9400 - loss: 0.4179\n",
            "Epoch 21/100\n",
            "5/5 - 0s - 11ms/step - accuracy: 0.9400 - loss: 0.4163\n",
            "Epoch 22/100\n",
            "5/5 - 0s - 7ms/step - accuracy: 0.9333 - loss: 0.4148\n",
            "Epoch 23/100\n",
            "5/5 - 0s - 12ms/step - accuracy: 0.9333 - loss: 0.4134\n",
            "Epoch 24/100\n",
            "5/5 - 0s - 12ms/step - accuracy: 0.9267 - loss: 0.4121\n",
            "Epoch 25/100\n",
            "5/5 - 0s - 12ms/step - accuracy: 0.9333 - loss: 0.4108\n",
            "Epoch 26/100\n",
            "5/5 - 0s - 12ms/step - accuracy: 0.9400 - loss: 0.4091\n",
            "Epoch 27/100\n",
            "5/5 - 0s - 11ms/step - accuracy: 0.9333 - loss: 0.4081\n",
            "Epoch 28/100\n",
            "5/5 - 0s - 9ms/step - accuracy: 0.9333 - loss: 0.4061\n",
            "Epoch 29/100\n",
            "5/5 - 0s - 11ms/step - accuracy: 0.9333 - loss: 0.4048\n",
            "Epoch 30/100\n",
            "5/5 - 0s - 8ms/step - accuracy: 0.9400 - loss: 0.4035\n",
            "Epoch 31/100\n",
            "5/5 - 0s - 11ms/step - accuracy: 0.9400 - loss: 0.4019\n",
            "Epoch 32/100\n",
            "5/5 - 0s - 7ms/step - accuracy: 0.9467 - loss: 0.4008\n",
            "Epoch 33/100\n",
            "5/5 - 0s - 12ms/step - accuracy: 0.9533 - loss: 0.3996\n",
            "Epoch 34/100\n",
            "5/5 - 0s - 7ms/step - accuracy: 0.9533 - loss: 0.3988\n",
            "Epoch 35/100\n",
            "5/5 - 0s - 7ms/step - accuracy: 0.9533 - loss: 0.3969\n",
            "Epoch 36/100\n",
            "5/5 - 0s - 11ms/step - accuracy: 0.9533 - loss: 0.3953\n",
            "Epoch 37/100\n",
            "5/5 - 0s - 8ms/step - accuracy: 0.9400 - loss: 0.3940\n",
            "Epoch 38/100\n",
            "5/5 - 0s - 12ms/step - accuracy: 0.9467 - loss: 0.3925\n",
            "Epoch 39/100\n",
            "5/5 - 0s - 11ms/step - accuracy: 0.9467 - loss: 0.3915\n",
            "Epoch 40/100\n",
            "5/5 - 0s - 7ms/step - accuracy: 0.9533 - loss: 0.3903\n",
            "Epoch 41/100\n",
            "5/5 - 0s - 11ms/step - accuracy: 0.9533 - loss: 0.3886\n",
            "Epoch 42/100\n",
            "5/5 - 0s - 12ms/step - accuracy: 0.9533 - loss: 0.3873\n",
            "Epoch 43/100\n",
            "5/5 - 0s - 11ms/step - accuracy: 0.9533 - loss: 0.3860\n",
            "Epoch 44/100\n",
            "5/5 - 0s - 12ms/step - accuracy: 0.9533 - loss: 0.3846\n",
            "Epoch 45/100\n",
            "5/5 - 0s - 9ms/step - accuracy: 0.9467 - loss: 0.3839\n",
            "Epoch 46/100\n",
            "5/5 - 0s - 12ms/step - accuracy: 0.9467 - loss: 0.3820\n",
            "Epoch 47/100\n",
            "5/5 - 0s - 12ms/step - accuracy: 0.9533 - loss: 0.3807\n",
            "Epoch 48/100\n",
            "5/5 - 0s - 10ms/step - accuracy: 0.9533 - loss: 0.3793\n",
            "Epoch 49/100\n",
            "5/5 - 0s - 9ms/step - accuracy: 0.9600 - loss: 0.3786\n",
            "Epoch 50/100\n",
            "5/5 - 0s - 7ms/step - accuracy: 0.9600 - loss: 0.3768\n",
            "Epoch 51/100\n",
            "5/5 - 0s - 12ms/step - accuracy: 0.9600 - loss: 0.3756\n",
            "Epoch 52/100\n",
            "5/5 - 0s - 11ms/step - accuracy: 0.9600 - loss: 0.3748\n",
            "Epoch 53/100\n",
            "5/5 - 0s - 11ms/step - accuracy: 0.9600 - loss: 0.3732\n",
            "Epoch 54/100\n",
            "5/5 - 0s - 12ms/step - accuracy: 0.9600 - loss: 0.3724\n",
            "Epoch 55/100\n",
            "5/5 - 0s - 7ms/step - accuracy: 0.9667 - loss: 0.3705\n",
            "Epoch 56/100\n",
            "5/5 - 0s - 12ms/step - accuracy: 0.9600 - loss: 0.3692\n",
            "Epoch 57/100\n",
            "5/5 - 0s - 12ms/step - accuracy: 0.9600 - loss: 0.3683\n",
            "Epoch 58/100\n",
            "5/5 - 0s - 8ms/step - accuracy: 0.9600 - loss: 0.3668\n",
            "Epoch 59/100\n",
            "5/5 - 0s - 11ms/step - accuracy: 0.9600 - loss: 0.3655\n",
            "Epoch 60/100\n",
            "5/5 - 0s - 11ms/step - accuracy: 0.9600 - loss: 0.3644\n",
            "Epoch 61/100\n",
            "5/5 - 0s - 12ms/step - accuracy: 0.9667 - loss: 0.3640\n",
            "Epoch 62/100\n",
            "5/5 - 0s - 13ms/step - accuracy: 0.9667 - loss: 0.3619\n",
            "Epoch 63/100\n",
            "5/5 - 0s - 12ms/step - accuracy: 0.9667 - loss: 0.3605\n",
            "Epoch 64/100\n",
            "5/5 - 0s - 9ms/step - accuracy: 0.9667 - loss: 0.3595\n",
            "Epoch 65/100\n",
            "5/5 - 0s - 11ms/step - accuracy: 0.9667 - loss: 0.3581\n",
            "Epoch 66/100\n",
            "5/5 - 0s - 12ms/step - accuracy: 0.9667 - loss: 0.3570\n",
            "Epoch 67/100\n",
            "5/5 - 0s - 11ms/step - accuracy: 0.9667 - loss: 0.3557\n",
            "Epoch 68/100\n",
            "5/5 - 0s - 11ms/step - accuracy: 0.9667 - loss: 0.3545\n",
            "Epoch 69/100\n",
            "5/5 - 0s - 11ms/step - accuracy: 0.9667 - loss: 0.3535\n",
            "Epoch 70/100\n",
            "5/5 - 0s - 7ms/step - accuracy: 0.9667 - loss: 0.3521\n",
            "Epoch 71/100\n",
            "5/5 - 0s - 12ms/step - accuracy: 0.9667 - loss: 0.3510\n",
            "Epoch 72/100\n",
            "5/5 - 0s - 12ms/step - accuracy: 0.9667 - loss: 0.3502\n",
            "Epoch 73/100\n",
            "5/5 - 0s - 12ms/step - accuracy: 0.9667 - loss: 0.3486\n",
            "Epoch 74/100\n",
            "5/5 - 0s - 12ms/step - accuracy: 0.9667 - loss: 0.3474\n",
            "Epoch 75/100\n",
            "5/5 - 0s - 11ms/step - accuracy: 0.9667 - loss: 0.3464\n",
            "Epoch 76/100\n",
            "5/5 - 0s - 7ms/step - accuracy: 0.9667 - loss: 0.3451\n",
            "Epoch 77/100\n",
            "5/5 - 0s - 6ms/step - accuracy: 0.9667 - loss: 0.3438\n",
            "Epoch 78/100\n",
            "5/5 - 0s - 6ms/step - accuracy: 0.9667 - loss: 0.3425\n",
            "Epoch 79/100\n",
            "5/5 - 0s - 13ms/step - accuracy: 0.9667 - loss: 0.3414\n",
            "Epoch 80/100\n",
            "5/5 - 0s - 7ms/step - accuracy: 0.9667 - loss: 0.3404\n",
            "Epoch 81/100\n",
            "5/5 - 0s - 12ms/step - accuracy: 0.9667 - loss: 0.3395\n",
            "Epoch 82/100\n",
            "5/5 - 0s - 10ms/step - accuracy: 0.9667 - loss: 0.3379\n",
            "Epoch 83/100\n",
            "5/5 - 0s - 6ms/step - accuracy: 0.9667 - loss: 0.3371\n",
            "Epoch 84/100\n",
            "5/5 - 0s - 7ms/step - accuracy: 0.9667 - loss: 0.3356\n",
            "Epoch 85/100\n",
            "5/5 - 0s - 11ms/step - accuracy: 0.9667 - loss: 0.3347\n",
            "Epoch 86/100\n",
            "5/5 - 0s - 6ms/step - accuracy: 0.9667 - loss: 0.3336\n",
            "Epoch 87/100\n",
            "5/5 - 0s - 6ms/step - accuracy: 0.9667 - loss: 0.3321\n",
            "Epoch 88/100\n",
            "5/5 - 0s - 11ms/step - accuracy: 0.9667 - loss: 0.3310\n",
            "Epoch 89/100\n",
            "5/5 - 0s - 12ms/step - accuracy: 0.9667 - loss: 0.3299\n",
            "Epoch 90/100\n",
            "5/5 - 0s - 6ms/step - accuracy: 0.9667 - loss: 0.3292\n",
            "Epoch 91/100\n",
            "5/5 - 0s - 11ms/step - accuracy: 0.9667 - loss: 0.3278\n",
            "Epoch 92/100\n",
            "5/5 - 0s - 6ms/step - accuracy: 0.9667 - loss: 0.3266\n",
            "Epoch 93/100\n",
            "5/5 - 0s - 6ms/step - accuracy: 0.9667 - loss: 0.3254\n",
            "Epoch 94/100\n",
            "5/5 - 0s - 12ms/step - accuracy: 0.9667 - loss: 0.3243\n",
            "Epoch 95/100\n",
            "5/5 - 0s - 10ms/step - accuracy: 0.9667 - loss: 0.3231\n",
            "Epoch 96/100\n",
            "5/5 - 0s - 6ms/step - accuracy: 0.9667 - loss: 0.3221\n",
            "Epoch 97/100\n",
            "5/5 - 0s - 6ms/step - accuracy: 0.9667 - loss: 0.3210\n",
            "Epoch 98/100\n",
            "5/5 - 0s - 6ms/step - accuracy: 0.9667 - loss: 0.3197\n",
            "Epoch 99/100\n",
            "5/5 - 0s - 12ms/step - accuracy: 0.9667 - loss: 0.3189\n",
            "Epoch 100/100\n",
            "5/5 - 0s - 11ms/step - accuracy: 0.9667 - loss: 0.3177\n"
          ]
        },
        {
          "output_type": "execute_result",
          "data": {
            "text/plain": [
              "<keras.src.callbacks.history.History at 0x7a745029c280>"
            ]
          },
          "metadata": {},
          "execution_count": 13
        }
      ]
    },
    {
      "cell_type": "code",
      "source": [
        "model.evaluate(x , y)"
      ],
      "metadata": {
        "colab": {
          "base_uri": "https://localhost:8080/"
        },
        "id": "7EfHUUbHeJIa",
        "outputId": "442cbcb6-b2a8-44df-fb89-307d663bf446"
      },
      "execution_count": 14,
      "outputs": [
        {
          "output_type": "stream",
          "name": "stdout",
          "text": [
            "\u001b[1m5/5\u001b[0m \u001b[32m━━━━━━━━━━━━━━━━━━━━\u001b[0m\u001b[37m\u001b[0m \u001b[1m0s\u001b[0m 3ms/step - accuracy: 0.9737 - loss: 0.2399  \n"
          ]
        },
        {
          "output_type": "execute_result",
          "data": {
            "text/plain": [
              "[0.3167789876461029, 0.9666666388511658]"
            ]
          },
          "metadata": {},
          "execution_count": 14
        }
      ]
    },
    {
      "cell_type": "code",
      "source": [],
      "metadata": {
        "id": "i9l7Rnh0fX-2"
      },
      "execution_count": null,
      "outputs": []
    }
  ]
}